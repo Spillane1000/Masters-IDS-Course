{
 "cells": [
  {
   "cell_type": "markdown",
   "metadata": {},
   "source": [
    "# Assignment 2a\n",
    "\n",
    "## 2.2.1: Implementation of the F-statistic"
   ]
  },
  {
   "cell_type": "code",
   "execution_count": 5,
   "metadata": {},
   "outputs": [
    {
     "ename": "ModuleNotFoundError",
     "evalue": "No module named 'numpy'",
     "output_type": "error",
     "traceback": [
      "\u001b[0;31m---------------------------------------------------------------------------\u001b[0m",
      "\u001b[0;31mModuleNotFoundError\u001b[0m                       Traceback (most recent call last)",
      "\u001b[0;32m/tmp/ipykernel_22649/2019600127.py\u001b[0m in \u001b[0;36m<module>\u001b[0;34m\u001b[0m\n\u001b[1;32m      1\u001b[0m \u001b[0;31m#Import necessary packages\u001b[0m\u001b[0;34m\u001b[0m\u001b[0;34m\u001b[0m\u001b[0;34m\u001b[0m\u001b[0m\n\u001b[0;32m----> 2\u001b[0;31m \u001b[0;32mimport\u001b[0m \u001b[0mnumpy\u001b[0m \u001b[0;32mas\u001b[0m \u001b[0mnp\u001b[0m\u001b[0;34m\u001b[0m\u001b[0;34m\u001b[0m\u001b[0m\n\u001b[0m\u001b[1;32m      3\u001b[0m \u001b[0;32mfrom\u001b[0m \u001b[0mcollections\u001b[0m \u001b[0;32mimport\u001b[0m \u001b[0mCounter\u001b[0m\u001b[0;34m\u001b[0m\u001b[0;34m\u001b[0m\u001b[0m\n",
      "\u001b[0;31mModuleNotFoundError\u001b[0m: No module named 'numpy'"
     ]
    }
   ],
   "source": [
    "#Import necessary packages\n",
    "import numpy as np\n",
    "from collections import Counter"
   ]
  },
  {
   "cell_type": "code",
   "execution_count": 51,
   "metadata": {},
   "outputs": [],
   "source": [
    "def myOneWayANOVA(IV, DV):\n",
    "    \n",
    "    #Count of identical entries in DV and their indexes\n",
    "    count = Counter(DV)\n",
    "    index = [item for item, counts in Counter(DV).items()]\n",
    "    \n",
    "    #Return error when DV only has one unique value\n",
    "    if np.size(index) == 1:\n",
    "        return \"DV only has one unique value!\"\n",
    "    \n",
    "    #Return error when IV and DV are not the same size\n",
    "    elif np.size(IV) != np.size(DV):\n",
    "        return \"IV and DV do not have the same size!\"\n",
    "\n",
    "    #Calculation of F\n",
    "    else:\n",
    "        #List to iterate over using the number of unique entries in DV\n",
    "        noDV = np.arange(np.size(index))\n",
    "\n",
    "        #Lists of values that correspond to one of the categories of DV\n",
    "        lists = [[] for i in noDV]\n",
    "        for j, k in zip(index, noDV):\n",
    "            index_pos_list = [ i for i in range(len(DV)) if DV[i] == j ]\n",
    "            lists[k] = IV[np.min(index_pos_list):np.max(index_pos_list)+1]\n",
    "            \n",
    "        #Calculation of variance between groups\n",
    "        arraySSB = np.array([])\n",
    "        for i in noDV:\n",
    "            arraySSB = np.append(arraySSB, np.size(lists[i])*(np.mean(lists[i])-np.mean(IV))**2)\n",
    "        SSB = (1/(np.size(index)-1))*np.sum(arraySSB)\n",
    "        \n",
    "        #Calculation of the within group sum of squares\n",
    "        arraySSW = np.array([])\n",
    "        degFreedom = np.array([])\n",
    "        for i in noDV:\n",
    "            arraySSW = np.append(arraySSW, (np.size(lists[i])-1)*np.var(lists[i], ddof = 1))\n",
    "            degFreedom = np.append(degFreedom, np.size(lists[i])-1)\n",
    "        SSW = np.sum(arraySSW)/(np.sum(degFreedom))\n",
    "        \n",
    "        #Final calculation of F\n",
    "        F = SSB/SSW\n",
    "    \n",
    "        return np.round(F,3)"
   ]
  },
  {
   "cell_type": "markdown",
   "metadata": {},
   "source": [
    "## 2.2.2:  Principal Component Analysis"
   ]
  },
  {
   "cell_type": "code",
   "execution_count": 3,
   "metadata": {},
   "outputs": [
    {
     "ename": "NameError",
     "evalue": "name 'np' is not defined",
     "output_type": "error",
     "traceback": [
      "\u001b[0;31m---------------------------------------------------------------------------\u001b[0m",
      "\u001b[0;31mNameError\u001b[0m                                 Traceback (most recent call last)",
      "\u001b[0;32m/tmp/ipykernel_22649/235365253.py\u001b[0m in \u001b[0;36m<module>\u001b[0;34m\u001b[0m\n\u001b[1;32m     21\u001b[0m     \u001b[0;32mreturn\u001b[0m \u001b[0msortedPairs\u001b[0m\u001b[0;34m\u001b[0m\u001b[0;34m\u001b[0m\u001b[0m\n\u001b[1;32m     22\u001b[0m \u001b[0;34m\u001b[0m\u001b[0m\n\u001b[0;32m---> 23\u001b[0;31m \u001b[0mmypca\u001b[0m\u001b[0;34m(\u001b[0m\u001b[0mnp\u001b[0m\u001b[0;34m.\u001b[0m\u001b[0mndarray\u001b[0m\u001b[0;34m(\u001b[0m\u001b[0;34m[\u001b[0m\u001b[0;34m[\u001b[0m\u001b[0;36m1\u001b[0m\u001b[0;34m,\u001b[0m\u001b[0;36m2\u001b[0m\u001b[0;34m]\u001b[0m\u001b[0;34m]\u001b[0m\u001b[0;34m)\u001b[0m\u001b[0;34m)\u001b[0m\u001b[0;34m\u001b[0m\u001b[0;34m\u001b[0m\u001b[0m\n\u001b[0m",
      "\u001b[0;31mNameError\u001b[0m: name 'np' is not defined"
     ]
    }
   ],
   "source": [
    "# Input A is an N by M NumPy ndarray (e.g., created with np.array([[1,2,3],[4,5,6]]))\n",
    "# for 2 data points each described by 3 variables.\n",
    "# Returns a list of pairs (tuples) each containing an L2-normalized principal component (as a NumPy array)\n",
    "# and its corresponding eigenvalue, sorted in descending order by eigenvalue.\n",
    "def mypca(A):\n",
    "    # Center the data\n",
    "    meanDataPoint = np.mean(A, 0)\n",
    "    centeredData = A - meanDataPoint\n",
    "    \n",
    "    # Calculate the variance-covariance matrix of the variables\n",
    "    varCovarMatrix = np.cov(centeredData.T)\n",
    "    \n",
    "    # Calculate the eigenvalues and the eigenvectors of the variance-covariance matrix\n",
    "    # The eigenvectors in eigVecs are readily L2-normalized\n",
    "    eigVals, eigVecs = np.linalg.eig(varCovarMatrix)\n",
    "    \n",
    "    # Pair up the eigenvectors with their eigenvalues and sort the pairs by descending eigenvalues\n",
    "    pairs = zip(eigVecs, eigVals)\n",
    "    sortedPairs = sorted(pairs, key=lambda x: x[1], reverse=True)\n",
    "    \n",
    "    return sortedPairs"
   ]
  }
 ],
 "metadata": {
  "kernelspec": {
   "display_name": "Python 3.7.13 64-bit",
   "language": "python",
   "name": "python3"
  },
  "language_info": {
   "codemirror_mode": {
    "name": "ipython",
    "version": 3
   },
   "file_extension": ".py",
   "mimetype": "text/x-python",
   "name": "python",
   "nbconvert_exporter": "python",
   "pygments_lexer": "ipython3",
   "version": "3.7.13"
  },
  "vscode": {
   "interpreter": {
    "hash": "fd69f43f58546b570e94fd7eba7b65e6bcc7a5bbc4eab0408017d18902915d69"
   }
  }
 },
 "nbformat": 4,
 "nbformat_minor": 2
}
